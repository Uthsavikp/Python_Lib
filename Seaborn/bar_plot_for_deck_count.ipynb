{
 "cells": [
  {
   "cell_type": "code",
   "execution_count": 14,
   "metadata": {},
   "outputs": [
    {
     "data": {
      "image/png": "[encoded data removed]",
      "text/plain": [
       "<Figure size 432x288 with 1 Axes>"
      ]
     },
     "metadata": {
      "needs_background": "light"
     },
     "output_type": "display_data"
    }
   ],
   "source": [
    "''' \n",
    "  @Author: Uthsavi KP\n",
    "  @Date: 2021-01-15 21:00:24\n",
    "  @Last Modified by: Uthsavi KP\n",
    "  @Last Modified time: 2021-01-14 21:00:24\n",
    "  @Title: To draw a barplot to show count for a deck for a dataset.\n",
    "'''\n",
    "import pandas as pd\n",
    "import seaborn as sns\n",
    "\n",
    "class BarPlot:\n",
    "    @staticmethod\n",
    "    def bar_plot_showing_count_for_deck():\n",
    "        \"\"\"\n",
    "        drawing a barplot(it takes mean per categorical column)\n",
    "        to show count for deck in titanic dataset\n",
    "        \"\"\"\n",
    "        data = pd.read_csv(\"https://raw.githubusercontent.com/mwaskom/seaborn-data/master/titanic.csv\")\n",
    "        sns.countplot(x = \"deck\",data = data)\n",
    "\n",
    "if __name__==\"__main__\":\n",
    "    BarPlot.bar_plot_showing_count_for_deck()"
   ]
  }
 ],
 "metadata": {
  "kernelspec": {
   "display_name": "Python 3",
   "language": "python",
   "name": "python3"
  },
  "language_info": {
   "codemirror_mode": {
    "name": "ipython",
    "version": 3
   },
   "file_extension": ".py",
   "mimetype": "text/x-python",
   "name": "python",
   "nbconvert_exporter": "python",
   "pygments_lexer": "ipython3",
   "version": "3.8.3"
  }
 },
 "nbformat": 4,
 "nbformat_minor": 4
}
