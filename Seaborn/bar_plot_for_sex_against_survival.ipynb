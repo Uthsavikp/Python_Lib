{
 "cells": [
  {
   "cell_type": "code",
   "execution_count": 5,
   "metadata": {},
   "outputs": [
    {
     "data": {
      "image/png": "[encoded data removed]",
      "text/plain": [
       "<Figure size 432x288 with 1 Axes>"
      ]
     },
     "metadata": {
      "needs_background": "light"
     },
     "output_type": "display_data"
    }
   ],
   "source": [
    "''' \n",
    "  @Author: Uthsavi KP\n",
    "  @Date: 2021-01-15 20:17:30\n",
    "  @Last Modified by: Uthsavi KP\n",
    "  @Last Modified time: 2021-01-14 20:17:30\n",
    "  @Title: To draw bar plot of sex against survived for titanic dataset.\n",
    "'''\n",
    "import pandas as pd\n",
    "import seaborn as sns\n",
    "\n",
    "class BarPlot:\n",
    "    @staticmethod\n",
    "    def sex_against_survival_in_titanic_dataset():\n",
    "        \"\"\"\n",
    "        drawing a barplot(it takes mean per categorical column)\n",
    "        for sex against survival using titanic dataset\n",
    "        \"\"\"\n",
    "        data = pd.read_csv(\"https://raw.githubusercontent.com/mwaskom/seaborn-data/master/titanic.csv\")\n",
    "        #taking categorical data on x-axis and numerical data on y_aix\n",
    "        sns.barplot(x = \"sex\", y = \"survived\", data = data)\n",
    "\n",
    "if __name__==\"__main__\":\n",
    "    BarPlot.sex_against_survival_in_titanic_dataset()"
   ]
  }
 ],
 "metadata": {
  "kernelspec": {
   "display_name": "Python 3",
   "language": "python",
   "name": "python3"
  },
  "language_info": {
   "codemirror_mode": {
    "name": "ipython",
    "version": 3
   },
   "file_extension": ".py",
   "mimetype": "text/x-python",
   "name": "python",
   "nbconvert_exporter": "python",
   "pygments_lexer": "ipython3",
   "version": "3.8.3"
  }
 },
 "nbformat": 4,
 "nbformat_minor": 4
}
