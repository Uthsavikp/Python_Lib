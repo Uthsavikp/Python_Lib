{
 "cells": [
  {
   "cell_type": "code",
   "execution_count": 4,
   "metadata": {},
   "outputs": [
    {
     "data": {
      "image/png": "[encoded data removed]",
      "text/plain": [
       "<Figure size 432x288 with 1 Axes>"
      ]
     },
     "metadata": {
      "needs_background": "light"
     },
     "output_type": "display_data"
    }
   ],
   "source": [
    "''' \n",
    "  @Author: Uthsavi KP\n",
    "  @Date: 2021-01-15 23:17:42\n",
    "  @Last Modified by: Uthsavi KP\n",
    "  @Last Modified time: 2021-01-15 23:17:42\n",
    "  @Title: To draw a box plot of day by tips for tips dataset.\n",
    "'''\n",
    "import pandas as pd\n",
    "import seaborn as sns\n",
    "\n",
    "class BoxPlot:\n",
    "    @staticmethod\n",
    "    def box_plot_of_day_by_tips():\n",
    "        \"\"\"\n",
    "        drawing a box plot for day by tips\n",
    "        \"\"\"\n",
    "        data = pd.read_csv(\"https://raw.githubusercontent.com/mwaskom/seaborn-data/master/tips.csv\")\n",
    "        sns.boxplot(x = \"day\", y = \"tip\", data = data)\n",
    "if __name__==\"__main__\":\n",
    "    BoxPlot.box_plot_of_day_by_tips()"
   ]
  }
 ],
 "metadata": {
  "kernelspec": {
   "display_name": "Python 3",
   "language": "python",
   "name": "python3"
  },
  "language_info": {
   "codemirror_mode": {
    "name": "ipython",
    "version": 3
   },
   "file_extension": ".py",
   "mimetype": "text/x-python",
   "name": "python",
   "nbconvert_exporter": "python",
   "pygments_lexer": "ipython3",
   "version": "3.8.3"
  }
 },
 "nbformat": 4,
 "nbformat_minor": 4
}
