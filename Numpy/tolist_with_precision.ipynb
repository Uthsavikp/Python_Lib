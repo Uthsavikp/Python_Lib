{
 "cells": [
  {
   "cell_type": "code",
   "execution_count": null,
   "metadata": {},
   "outputs": [],
   "source": [
    "''' \n",
    "  @Author: Uthsavi KP\n",
    "  @Date: 2021-01-13 1:27:20\n",
    "  @Last Modified by: Uthsavi KP\n",
    "  @Last Modified time: 2021-01-13 1:27:20\n",
    "  @Title: To convert a NumPy array into Python list structure with precision 3.\n",
    "'''\n",
    "import numpy as np\n",
    "class Precision:\n",
    "    def array_with_precision(self):\n",
    "        \"\"\"\n",
    "        converting numpy array to list with precision 3\n",
    "        \"\"\"\n",
    "        array1 = np.array([ 0.26153123,0.52760141,0.5718299,0.5927067,0.7831874,\n",
    "                  0.69746349,0.35399976,0.99469633,0.0694458,0.54711478]) \n",
    "        array2 = array1.tolist()\n",
    "        np.set_printoptions(precision=3)\n",
    "        print(\"Array values with precision 3:\\n\",array1)\n",
    "if __name__==\"__main__\":\n",
    "    preci = Precision()\n",
    "    preci.array_with_precision()"
   ]
  }
 ],
 "metadata": {
  "kernelspec": {
   "display_name": "Python 3",
   "language": "python",
   "name": "python3"
  },
  "language_info": {
   "codemirror_mode": {
    "name": "ipython",
    "version": 3
   },
   "file_extension": ".py",
   "mimetype": "text/x-python",
   "name": "python",
   "nbconvert_exporter": "python",
   "pygments_lexer": "ipython3",
   "version": "3.8.3"
  }
 },
 "nbformat": 4,
 "nbformat_minor": 4
}
