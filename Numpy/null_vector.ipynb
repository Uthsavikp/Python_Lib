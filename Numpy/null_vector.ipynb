{
 "cells": [
  {
   "cell_type": "code",
   "execution_count": null,
   "metadata": {},
   "outputs": [],
   "source": [
    "''' \n",
    "  @Author: Uthsavi KP\n",
    "  @Date: 2021-01-11 22:08:46\n",
    "  @Last Modified by: Uthsavi KP\n",
    "  @Last Modified time: 2021-01-11 22:08:46\n",
    "  @Title: To create a null vector of size 10 and update sixth value to 11. \n",
    "'''\n",
    "\n",
    "import nump as np\n",
    "class CreateNullVector:\n",
    "    def creating_null_vector(self):\n",
    "        \"\"\"\n",
    "        creating a null vector of size 10 \n",
    "        and updating sixth value to 11\n",
    "        \"\"\"\n",
    "        null_vector = np.zeros(10)\n",
    "        print(\"Null vector :\",null_vector)\n",
    "        null_vector[5]=11\n",
    "        print(\"Updated null vector :\",null_vector)\n",
    "if __name__ == \"__main__\": \n",
    "    create_nullvector = CreateNullVector()\n",
    "    create_nullvector.creating_null_vector()"
   ]
  }
 ],
 "metadata": {
  "kernelspec": {
   "display_name": "Python 3",
   "language": "python",
   "name": "python3"
  },
  "language_info": {
   "codemirror_mode": {
    "name": "ipython",
    "version": 3
   },
   "file_extension": ".py",
   "mimetype": "text/x-python",
   "name": "python",
   "nbconvert_exporter": "python",
   "pygments_lexer": "ipython3",
   "version": "3.8.3"
  }
 },
 "nbformat": 4,
 "nbformat_minor": 4
}
