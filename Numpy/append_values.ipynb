{
 "cells": [
  {
   "cell_type": "code",
   "execution_count": 1,
   "metadata": {},
   "outputs": [
    {
     "name": "stdout",
     "output_type": "stream",
     "text": [
      "Original array\n",
      " [10, 20, 30]\n",
      "Array after appending\n",
      " [10 20 30 40 50 60 70 80 90]\n"
     ]
    }
   ],
   "source": [
    "''' \n",
    "  @Author: Uthsavi KP\n",
    "  @Date: 2021-01-12 16:26:36\n",
    "  @Last Modified by: Uthsavi KP\n",
    "  @Last Modified time: 2021-01-12 23:57:31\n",
    "  @Title: To append values to the end of an array. \n",
    "'''\n",
    "import numpy as np\n",
    "class AppendValues:\n",
    "    def append_values_at_end(self):\n",
    "        \"\"\"\n",
    "        appending values at the end of an array\n",
    "        \"\"\"\n",
    "        original_array = [10,20,30]\n",
    "        print(\"Original array\\n\",original_array)\n",
    "        appended_array = np.append(original_array,[40,50,60,70,80,90])\n",
    "        print(\"Array after appending\\n\",appended_array)\n",
    "if __name__ == \"__main__\":\n",
    "    append_values = AppendValues()\n",
    "    append_values.append_values_at_end()"
   ]
  }
 ],
 "metadata": {
  "kernelspec": {
   "display_name": "Python 3",
   "language": "python",
   "name": "python3"
  },
  "language_info": {
   "codemirror_mode": {
    "name": "ipython",
    "version": 3
   },
   "file_extension": ".py",
   "mimetype": "text/x-python",
   "name": "python",
   "nbconvert_exporter": "python",
   "pygments_lexer": "ipython3",
   "version": "3.8.3"
  }
 },
 "nbformat": 4,
 "nbformat_minor": 4
}
