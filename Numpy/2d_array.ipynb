{
 "cells": [
  {
   "cell_type": "code",
   "execution_count": 1,
   "metadata": {},
   "outputs": [
    {
     "name": "stdout",
     "output_type": "stream",
     "text": [
      "Original 2D Array\n",
      " [[1 1 1 1 1]\n",
      " [1 1 1 1 1]\n",
      " [1 1 1 1 1]\n",
      " [1 1 1 1 1]\n",
      " [1 1 1 1 1]]\n",
      "2D Array with 1 on boarder and 0 inside\n",
      " [[1 1 1 1 1]\n",
      " [1 0 0 0 1]\n",
      " [1 0 0 0 1]\n",
      " [1 0 0 0 1]\n",
      " [1 1 1 1 1]]\n"
     ]
    }
   ],
   "source": [
    "''' \n",
    "  @Author: Uthsavi KP\n",
    "  @Date: 2021-01-12 16:09:24\n",
    "  @Last Modified by: Uthsavi KP\n",
    "  @Last Modified time: 2021-01-12 16:09:24\n",
    "  @Title: To create a 2d array with 1 on the border and 0 inside. \n",
    "'''\n",
    "import numpy as np\n",
    "class TwoDimensionArray:\n",
    "    def create_two_dimension_array(self):\n",
    "        \"\"\"\n",
    "        creating a 2D array with 1 on the boarder and 0 inside\n",
    "        \"\"\"\n",
    "        two_d_array = np.array([[1,1,1,1,1],[1,1,1,1,1],[1,1,1,1,1],[1,1,1,1,1],[1,1,1,1,1]])\n",
    "        print(\"Original 2D Array\\n\",two_d_array)\n",
    "        two_d_array[1:4:1,1:4:1]=0  #[<row>,<col>]\n",
    "        print(\"2D Array with 1 on boarder and 0 inside\\n\",two_d_array)\n",
    "if __name__ == \"__main__\":\n",
    "    two_dimension = TwoDimensionArray()\n",
    "    two_dimension.create_two_dimension_array()"
   ]
  }
 ],
 "metadata": {
  "kernelspec": {
   "display_name": "Python 3",
   "language": "python",
   "name": "python3"
  },
  "language_info": {
   "codemirror_mode": {
    "name": "ipython",
    "version": 3
   },
   "file_extension": ".py",
   "mimetype": "text/x-python",
   "name": "python",
   "nbconvert_exporter": "python",
   "pygments_lexer": "ipython3",
   "version": "3.8.3"
  }
 },
 "nbformat": 4,
 "nbformat_minor": 4
}
