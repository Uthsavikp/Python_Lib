{
 "cells": [
  {
   "cell_type": "code",
   "execution_count": 1,
   "metadata": {},
   "outputs": [
    {
     "name": "stdout",
     "output_type": "stream",
     "text": [
      "One-dimensional numpy array : [ 12.23  13.32 100.    36.32]\n"
     ]
    }
   ],
   "source": [
    "''' \n",
    "  @Author: Uthsavi KP\n",
    "  @Date: 2021-01-12 23:27:24\n",
    "  @Last Modified by: Uthsavi KP\n",
    "  @Last Modified time: 2021-01-12 23:57:31\n",
    "  @Title: To convert a list of numeric values into a one-dimensional array. \n",
    "'''\n",
    "\n",
    "import numpy as np\n",
    "class OneDimensionalArray:\n",
    "    def convert_to_numpy_array(self):\n",
    "        \"\"\"\n",
    "        converting a list into 1D array using numpy\n",
    "        \"\"\"\n",
    "        original_list = [12.23, 13.32, 100, 36.32] \n",
    "        numpy_array = np.array(original_list)\n",
    "        print(\"One-dimensional numpy array :\",numpy_array)\n",
    "\n",
    "if __name__ == \"__main__\":\n",
    "    One_dimension = OneDimensionalArray()\n",
    "    One_dimension.convert_to_numpy_array()        "
   ]
  }
 ],
 "metadata": {
  "kernelspec": {
   "display_name": "Python 3",
   "language": "python",
   "name": "python3"
  },
  "language_info": {
   "codemirror_mode": {
    "name": "ipython",
    "version": 3
   },
   "file_extension": ".py",
   "mimetype": "text/x-python",
   "name": "python",
   "nbconvert_exporter": "python",
   "pygments_lexer": "ipython3",
   "version": "3.8.3"
  }
 },
 "nbformat": 4,
 "nbformat_minor": 4
}
