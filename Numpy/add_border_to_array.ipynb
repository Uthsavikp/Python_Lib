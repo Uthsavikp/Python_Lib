{
 "cells": [
  {
   "cell_type": "code",
   "execution_count": 4,
   "metadata": {},
   "outputs": [
    {
     "name": "stdout",
     "output_type": "stream",
     "text": [
      "Original array\n",
      " [[1 1 1]\n",
      " [1 1 1]\n",
      " [1 1 1]]\n",
      "\n",
      "Array with zero on the border\n",
      " [[0 0 0 0 0]\n",
      " [0 1 1 1 0]\n",
      " [0 1 1 1 0]\n",
      " [0 1 1 1 0]\n",
      " [0 0 0 0 0]]\n"
     ]
    }
   ],
   "source": [
    "''' \n",
    "  @Author: Uthsavi KP\n",
    "  @Date: 2021-01-12 23:27:24\n",
    "  @Last Modified by: Uthsavi KP\n",
    "  @Last Modified time: 2021-01-12 23:57:31\n",
    "  @Title: To add a border (filled with 0's) around an existing array. \n",
    "'''\n",
    "import numpy as np\n",
    "class AddBorder:\n",
    "    def boarder_filled_with_zero(self):\n",
    "        \"\"\"\n",
    "        adding border to an array with \n",
    "        0 on the border and 1 on the inside\n",
    "        \"\"\"\n",
    "        array1 = np.random.randint(1,2,9).reshape(3,3)\n",
    "        print(\"Original array\\n\",array1)        \n",
    "        array = np.pad(array1, pad_width=1, mode='constant', constant_values=0) \n",
    "        print(\"\\nArray with zero on the border\\n\",array)\n",
    "if __name__==\"__main__\":\n",
    "    add_border = AddBorder()\n",
    "    add_border.boarder_filled_with_zero()"
   ]
  }
 ],
 "metadata": {
  "kernelspec": {
   "display_name": "Python 3",
   "language": "python",
   "name": "python3"
  },
  "language_info": {
   "codemirror_mode": {
    "name": "ipython",
    "version": 3
   },
   "file_extension": ".py",
   "mimetype": "text/x-python",
   "name": "python",
   "nbconvert_exporter": "python",
   "pygments_lexer": "ipython3",
   "version": "3.8.3"
  }
 },
 "nbformat": 4,
 "nbformat_minor": 4
}
