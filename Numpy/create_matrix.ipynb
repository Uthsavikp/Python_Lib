{
 "cells": [
  {
   "cell_type": "code",
   "execution_count": 1,
   "metadata": {},
   "outputs": [
    {
     "name": "stdout",
     "output_type": "stream",
     "text": [
      "[[ 2  3  4]\n",
      " [ 5  6  7]\n",
      " [ 8  9 10]]\n"
     ]
    }
   ],
   "source": [
    "''' \n",
    "  @Author: Uthsavi KP\n",
    "  @Date: 2021-01-12 23:27:24\n",
    "  @Last Modified by: Uthsavi KP\n",
    "  @Last Modified time: 2021-01-12 23:57:31\n",
    "  @Title: To create a matrix with values ranging from 2 to 10. \n",
    "'''\n",
    "\n",
    "import numpy as np\n",
    "class CreateMatrix:\n",
    "    def creating_matrix(self):\n",
    "        #my_matrix = np.random.randint(2,11,9).reshape(3,3)\n",
    "        \"\"\"\n",
    "        creating a matrix in the range 2 to 10 and \n",
    "        re-aranging the matrix into 3x3 matrix using numpy\n",
    "        \"\"\"\n",
    "        matrix = np.arange(2,11).reshape(3,3)\n",
    "        print(matrix)\n",
    "if __name__ == \"__main__\":\n",
    "    create_matrix = CreateMatrix()\n",
    "    create_matrix.creating_matrix() "
   ]
  }
 ],
 "metadata": {
  "kernelspec": {
   "display_name": "Python 3",
   "language": "python",
   "name": "python3"
  },
  "language_info": {
   "codemirror_mode": {
    "name": "ipython",
    "version": 3
   },
   "file_extension": ".py",
   "mimetype": "text/x-python",
   "name": "python",
   "nbconvert_exporter": "python",
   "pygments_lexer": "ipython3",
   "version": "3.8.3"
  }
 },
 "nbformat": 4,
 "nbformat_minor": 4
}
