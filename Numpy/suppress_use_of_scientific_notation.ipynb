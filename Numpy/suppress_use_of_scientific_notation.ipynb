{
 "cells": [
  {
   "cell_type": "code",
   "execution_count": 1,
   "metadata": {},
   "outputs": [
    {
     "name": "stdout",
     "output_type": "stream",
     "text": [
      "Array values with precision 3:\n",
      " [   0.       1.6   1200.       0.235]\n"
     ]
    }
   ],
   "source": [
    "''' \n",
    "  @Author: Uthsavi KP\n",
    "  @Date: 2021-01-13 1:48:43\n",
    "  @Last Modified by: Uthsavi KP\n",
    "  @Last Modified time: 2021-01-13 1:48:43\n",
    "  @Title: To suppress the use of scientific notation for small numbers in numpy array.\n",
    "'''\n",
    "import numpy as np\n",
    "class Suppresses:\n",
    "    def suppress_use_of_scientific_notation(self):\n",
    "        \"\"\"\n",
    "        suppressing the use of scientific notation for small results \n",
    "        \"\"\"\n",
    "        array1 = np.array([ 1.60000000e-10,1.60000000e+00,1.20000000e+03,2.35000000e-01])\n",
    "        np.set_printoptions(suppress=True)        \n",
    "        print(\"Array values with precision 3:\\n\",array1)\n",
    "if __name__==\"__main__\":\n",
    "    sup = Suppresses()\n",
    "    sup.suppress_use_of_scientific_notation()"
   ]
  }
 ],
 "metadata": {
  "kernelspec": {
   "display_name": "Python 3",
   "language": "python",
   "name": "python3"
  },
  "language_info": {
   "codemirror_mode": {
    "name": "ipython",
    "version": 3
   },
   "file_extension": ".py",
   "mimetype": "text/x-python",
   "name": "python",
   "nbconvert_exporter": "python",
   "pygments_lexer": "ipython3",
   "version": "3.8.3"
  }
 },
 "nbformat": 4,
 "nbformat_minor": 4
}
