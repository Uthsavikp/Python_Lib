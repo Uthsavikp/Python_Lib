{
 "cells": [
  {
   "cell_type": "code",
   "execution_count": 1,
   "metadata": {},
   "outputs": [
    {
     "name": "stdout",
     "output_type": "stream",
     "text": [
      "List to array : [1 2 3 4 5 6 7 8]\n",
      "Tuple to array :\n",
      " [[8 4 6]\n",
      " [1 2 3]]\n"
     ]
    }
   ],
   "source": [
    "''' \n",
    "  @Author: Uthsavi KP\n",
    "  @Date: 2021-01-11 23:27:24\n",
    "  @Last Modified by: Uthsavi KP\n",
    "  @Last Modified time: 2021-01-11 23:27:24\n",
    "  @Title: To convert a list and tuple into arrays. \n",
    "'''\n",
    "\n",
    "import numpy as np\n",
    "class Convert:\n",
    "    def converting_list_tuple_to_arrays(self):\n",
    "        my_list = [1,2,3,4,5,6,7,8] \n",
    "        list_to_array = np.array(my_list)\n",
    "        print(\"List to array :\",list_to_array)\n",
    "        my_tuple = ((8,4,6),(1,2,3))\n",
    "        tuple_to_array=np.array(my_tuple)\n",
    "        print(\"Tuple to array :\\n\",tuple_to_array,)\n",
    "\n",
    "if __name__ == \"__main__\":\n",
    "    convert = Convert()\n",
    "    convert.converting_list_tuple_to_arrays()"
   ]
  }
 ],
 "metadata": {
  "kernelspec": {
   "display_name": "Python 3",
   "language": "python",
   "name": "python3"
  },
  "language_info": {
   "codemirror_mode": {
    "name": "ipython",
    "version": 3
   },
   "file_extension": ".py",
   "mimetype": "text/x-python",
   "name": "python",
   "nbconvert_exporter": "python",
   "pygments_lexer": "ipython3",
   "version": "3.8.3"
  }
 },
 "nbformat": 4,
 "nbformat_minor": 4
}
