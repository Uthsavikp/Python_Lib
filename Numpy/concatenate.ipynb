{
 "cells": [
  {
   "cell_type": "code",
   "execution_count": 1,
   "metadata": {},
   "outputs": [
    {
     "name": "stdout",
     "output_type": "stream",
     "text": [
      "Array one\n",
      " [[10 12 14 16]\n",
      " [18 20 22 24]\n",
      " [26 28 30 32]\n",
      " [34 36 38 40]] \n",
      "\n",
      "Array two\n",
      " [[20 22 24 26 28]\n",
      " [30 32 34 36 38]\n",
      " [40 42 44 46 48]\n",
      " [50 52 54 56 58]]\n",
      "\n",
      "Array after concatenation\n",
      " [[10 12 14 16 20 22 24 26 28]\n",
      " [18 20 22 24 30 32 34 36 38]\n",
      " [26 28 30 32 40 42 44 46 48]\n",
      " [34 36 38 40 50 52 54 56 58]]\n"
     ]
    }
   ],
   "source": [
    "''' \n",
    "  @Author: Uthsavi KP\n",
    "  @Date: 2021-01-13 00:25:42\n",
    "  @Last Modified by: Uthsavi KP\n",
    "  @Last Modified time: 2021-01-13 00:25:42\n",
    "  @Title: To concatenate two 2-dimensional arrays. \n",
    "'''\n",
    "import numpy as np\n",
    "class Concatenate:\n",
    "    def concatenate_two_arrays(self):\n",
    "        \"\"\"\n",
    "        concatenating two 2-dimensional arrays\n",
    "        \"\"\"\n",
    "        array1 = np.arange(10,42,2).reshape(4,4)\n",
    "        array2 = np.arange(20,60,2).reshape(4,5)\n",
    "        print(\"Array one\\n\",array1,\"\\n\\nArray two\\n\",array2)\n",
    "        array_concat = np.concatenate((array1,array2),axis=1) #axis=0 -->rows, axis=1--.columns\n",
    "        print(\"\\nArray after concatenation\\n\",array_concat)    \n",
    "if __name__ == \"__main__\":\n",
    "    concat = Concatenate()\n",
    "    concat.concatenate_two_arrays()"
   ]
  }
 ],
 "metadata": {
  "kernelspec": {
   "display_name": "Python 3",
   "language": "python",
   "name": "python3"
  },
  "language_info": {
   "codemirror_mode": {
    "name": "ipython",
    "version": 3
   },
   "file_extension": ".py",
   "mimetype": "text/x-python",
   "name": "python",
   "nbconvert_exporter": "python",
   "pygments_lexer": "ipython3",
   "version": "3.8.3"
  }
 },
 "nbformat": 4,
 "nbformat_minor": 4
}
