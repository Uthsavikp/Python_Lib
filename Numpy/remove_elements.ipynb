{
 "cells": [
  {
   "cell_type": "code",
   "execution_count": 2,
   "metadata": {},
   "outputs": [
    {
     "name": "stdout",
     "output_type": "stream",
     "text": [
      "Original array\n",
      " [ 10  20  30  40  50  60  70  80  90 100]\n",
      "\n",
      "Array after removing specific elements\n",
      " [ 20  30  60  70  80  90 100]\n"
     ]
    }
   ],
   "source": [
    "''' \n",
    "  @Author: Uthsavi KP\n",
    "  @Date: 2021-01-13 02:35:29\n",
    "  @Last Modified by: Uthsavi KP\n",
    "  @Last Modified time: 2021-01-13 02:35:29\n",
    "  @Title: To remove specific elements in a numpy array(Delete first, fourth and fifth elements).\n",
    "'''\n",
    "import numpy as np\n",
    "class RemoveElements:\n",
    "    def remove_specific_elements(self):\n",
    "        \"\"\"\n",
    "        removing specific elements in a numpy array\n",
    "        \"\"\"\n",
    "        array1 = np.arange(10,101,10)\n",
    "        print(\"Original array\\n\",array1)\n",
    "        index = [0,3,4] #elements at this index have to be deleted\n",
    "        new_array = np.delete(array1,index)\n",
    "        print(\"\\nArray after removing specific elements\\n\",new_array)\n",
    "if __name__==\"__main__\":\n",
    "    remove_ele = RemoveElements()\n",
    "    remove_ele.remove_specific_elements()"
   ]
  }
 ],
 "metadata": {
  "kernelspec": {
   "display_name": "Python 3",
   "language": "python",
   "name": "python3"
  },
  "language_info": {
   "codemirror_mode": {
    "name": "ipython",
    "version": 3
   },
   "file_extension": ".py",
   "mimetype": "text/x-python",
   "name": "python",
   "nbconvert_exporter": "python",
   "pygments_lexer": "ipython3",
   "version": "3.8.3"
  }
 },
 "nbformat": 4,
 "nbformat_minor": 4
}
