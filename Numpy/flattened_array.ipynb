{
 "cells": [
  {
   "cell_type": "code",
   "execution_count": 1,
   "metadata": {},
   "outputs": [
    {
     "name": "stdout",
     "output_type": "stream",
     "text": [
      "Original_array\n",
      " [[10 11 12 13]\n",
      " [14 15 16 17]\n",
      " [18 19 20 21]\n",
      " [22 23 24 25]]\n",
      "\n",
      "Contiguous Flattened Array\n",
      " [10 11 12 13 14 15 16 17 18 19 20 21 22 23 24 25]\n"
     ]
    }
   ],
   "source": [
    "''' \n",
    "  @Author: Uthsavi KP\n",
    "  @Date: 2021-01-12 21:29:50\n",
    "  @Last Modified by: Uthsavi KP\n",
    "  @Last Modified time: 2021-01-12 21:29:50\n",
    "  @Title: To create a contiguous flattened array.\n",
    "'''\n",
    "import numpy as np\n",
    "class Contiguous:\n",
    "    def contiguous_flattened_array(self):\n",
    "        \"\"\"\n",
    "        creating contiguous flattened array using ravel() method,\n",
    "        it is a 2D or n-D array which is stored as a one-dimensional array\n",
    "        \"\"\"\n",
    "        array1 = np.arange(10,26).reshape(4,4)\n",
    "        print(\"Original_array\\n\",array1)\n",
    "        print(\"\\nContiguous Flattened Array\\n\",np.ravel(array1))\n",
    "if __name__==\"__main__\":\n",
    "    contig = Contiguous()\n",
    "    contig.contiguous_flattened_array()        "
   ]
  }
 ],
 "metadata": {
  "kernelspec": {
   "display_name": "Python 3",
   "language": "python",
   "name": "python3"
  },
  "language_info": {
   "codemirror_mode": {
    "name": "ipython",
    "version": 3
   },
   "file_extension": ".py",
   "mimetype": "text/x-python",
   "name": "python",
   "nbconvert_exporter": "python",
   "pygments_lexer": "ipython3",
   "version": "3.8.3"
  }
 },
 "nbformat": 4,
 "nbformat_minor": 4
}
