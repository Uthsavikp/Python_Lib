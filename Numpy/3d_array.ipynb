{
 "cells": [
  {
   "cell_type": "code",
   "execution_count": 2,
   "metadata": {},
   "outputs": [
    {
     "name": "stdout",
     "output_type": "stream",
     "text": [
      "[[1. 0. 0.]\n",
      " [0. 1. 0.]\n",
      " [0. 0. 1.]]\n"
     ]
    }
   ],
   "source": [
    "''' \n",
    "  @Author: Uthsavi KP\n",
    "  @Date: 2021-01-12 22:36:31\n",
    "  @Last Modified by: Uthsavi KP\n",
    "  @Last Modified time: 2021-01-12 22:36:31\n",
    "  @Title: To create a 3-D array with ones on a diagonal and zeros elsewhere.\n",
    "'''\n",
    "import numpy as np\n",
    "class ThreeDimensionArray:\n",
    "    def create_three_d_array(self):\n",
    "        \"\"\"\n",
    "        creating a 3-D array with ones on a diagonal and zeros elsewhere.\n",
    "        \"\"\"\n",
    "    array1 = np.identity((3))\n",
    "    print(array1)\n",
    "if __name__==\"__main__\":\n",
    "    three_d_array = ThreeDimensionArray()\n",
    "    three_d_array.create_three_d_array()"
   ]
  }
 ],
 "metadata": {
  "kernelspec": {
   "display_name": "Python 3",
   "language": "python",
   "name": "python3"
  },
  "language_info": {
   "codemirror_mode": {
    "name": "ipython",
    "version": 3
   },
   "file_extension": ".py",
   "mimetype": "text/x-python",
   "name": "python",
   "nbconvert_exporter": "python",
   "pygments_lexer": "ipython3",
   "version": "3.8.3"
  }
 },
 "nbformat": 4,
 "nbformat_minor": 4
}
