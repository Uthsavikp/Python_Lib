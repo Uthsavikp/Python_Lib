{
 "cells": [
  {
   "cell_type": "code",
   "execution_count": 1,
   "metadata": {},
   "outputs": [
    {
     "name": "stdout",
     "output_type": "stream",
     "text": [
      "Original array elements:\n",
      " [[ 0  1  2  3]\n",
      " [ 4  5  6  7]\n",
      " [ 8  9 10 11]]\n",
      "\n",
      "New array elements:\n",
      " [[ 0  3  6  9]\n",
      " [12 15 18 21]\n",
      " [24 27 30 33]]\n"
     ]
    }
   ],
   "source": [
    "''' \n",
    "  @Author: Uthsavi KP\n",
    "  @Date: 2021-01-13 1:02:48\n",
    "  @Last Modified by: Uthsavi KP\n",
    "  @Last Modified time: 2021-01-13 1:02:48\n",
    "  @Title: To create an array of (3, 4) shape, multiply every element value by 3 and display the new array.\n",
    "'''\n",
    "import numpy as np\n",
    "class Multiply:\n",
    "    def multiply_every_element_by_three(self):\n",
    "        \"\"\"\n",
    "        multiplying each array element by 3\n",
    "        \"\"\"\n",
    "        array1 = np.arange(0,12).reshape(3,4)\n",
    "        print(\"Original array elements:\\n\",array1)\n",
    "        print(\"\\nNew array elements:\\n\",array1*3)\n",
    "if __name__ == \"__main__\":\n",
    "    multy = Multiply()\n",
    "    multy.multiply_every_element_by_three()        "
   ]
  }
 ],
 "metadata": {
  "kernelspec": {
   "display_name": "Python 3",
   "language": "python",
   "name": "python3"
  },
  "language_info": {
   "codemirror_mode": {
    "name": "ipython",
    "version": 3
   },
   "file_extension": ".py",
   "mimetype": "text/x-python",
   "name": "python",
   "nbconvert_exporter": "python",
   "pygments_lexer": "ipython3",
   "version": "3.8.3"
  }
 },
 "nbformat": 4,
 "nbformat_minor": 4
}
