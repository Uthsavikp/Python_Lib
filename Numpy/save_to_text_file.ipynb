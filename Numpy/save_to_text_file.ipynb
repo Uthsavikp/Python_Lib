{
 "cells": [
  {
   "cell_type": "code",
   "execution_count": 1,
   "metadata": {},
   "outputs": [
    {
     "name": "stdout",
     "output_type": "stream",
     "text": [
      "Array \n",
      " [[0 1]\n",
      " [2 3]\n",
      " [4 5]\n",
      " [6 7]\n",
      " [8 9]]\n",
      "\n",
      "Displaying the saved file \n",
      " [[0. 1.]\n",
      " [2. 3.]\n",
      " [4. 5.]\n",
      " [6. 7.]\n",
      " [8. 9.]]\n"
     ]
    }
   ],
   "source": [
    "''' \n",
    "  @Author: Uthsavi KP\n",
    "  @Date: 2021-01-12 21:05:16\n",
    "  @Last Modified by: Uthsavi KP\n",
    "  @Last Modified time: 2021-01-12 21:05:16\n",
    "  @Title: To save a NumPy array to a text file.\n",
    "'''\n",
    "import numpy as np\n",
    "class Save:\n",
    "    def save_array_to_text_file(self):\n",
    "        \"\"\"\n",
    "        saving the numpy array in a text file\n",
    "        and displaying it\n",
    "        \"\"\"\n",
    "        array1 = np.arange(10).reshape(5,2)\n",
    "        print(\"Array \\n\",array1) \n",
    "        np.savetxt(\"file.txt\",array1) #saving\n",
    "        print(\"\\nDisplaying the saved file \\n\",np.loadtxt(\"file.txt\")) #displaying\n",
    "if __name__==\"__main__\":\n",
    "    sav = Save()\n",
    "    sav.save_array_to_text_file()"
   ]
  }
 ],
 "metadata": {
  "kernelspec": {
   "display_name": "Python 3",
   "language": "python",
   "name": "python3"
  },
  "language_info": {
   "codemirror_mode": {
    "name": "ipython",
    "version": 3
   },
   "file_extension": ".py",
   "mimetype": "text/x-python",
   "name": "python",
   "nbconvert_exporter": "python",
   "pygments_lexer": "ipython3",
   "version": "3.8.3"
  }
 },
 "nbformat": 4,
 "nbformat_minor": 4
}
