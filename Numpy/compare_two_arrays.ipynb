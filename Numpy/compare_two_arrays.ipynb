{
 "cells": [
  {
   "cell_type": "code",
   "execution_count": 1,
   "metadata": {
    "scrolled": false
   },
   "outputs": [
    {
     "name": "stdout",
     "output_type": "stream",
     "text": [
      "Array one : [1 2 4]\n",
      "Array two : [4 5 1]\n",
      "a > b  : [False False  True]\n",
      "a >= b : [False False  True]\n",
      "a < b  : [ True  True False]\n",
      "a <= b : [ True  True False]\n"
     ]
    }
   ],
   "source": [
    "''' \n",
    "  @Author: Uthsavi KP\n",
    "  @Date: 2021-01-12 19:47:35\n",
    "  @Last Modified by: Uthsavi KP\n",
    "  @Last Modified time: 2021-01-12 19:47:35\n",
    "  @Title: To compare two arrays using numpy.\n",
    "'''\n",
    "import numpy as np\n",
    "class Compare:\n",
    "    def comparing_two_arrays(self):\n",
    "        \"\"\"\n",
    "        comparing two arrays using numpy\n",
    "        \"\"\"\n",
    "        array_a = np.array([1,2,4]) \n",
    "        array_b = np.array([4,5,1])\n",
    "        print(\"Array one :\",array_a)\n",
    "        print(\"Array two :\",array_b)\n",
    "        print(\"a > b  :\",np.greater(array_a,array_b))\n",
    "        print(\"a >= b :\",np.greater_equal(array_a,array_b))\n",
    "        print(\"a < b  :\",np.less(array_a,array_b))\n",
    "        print(\"a <= b :\",np.less_equal(array_a,array_b))\n",
    "if __name__ == \"__main__\":\n",
    "    compare = Compare()\n",
    "    compare.comparing_two_arrays()"
   ]
  }
 ],
 "metadata": {
  "kernelspec": {
   "display_name": "Python 3",
   "language": "python",
   "name": "python3"
  },
  "language_info": {
   "codemirror_mode": {
    "name": "ipython",
    "version": 3
   },
   "file_extension": ".py",
   "mimetype": "text/x-python",
   "name": "python",
   "nbconvert_exporter": "python",
   "pygments_lexer": "ipython3",
   "version": "3.8.3"
  }
 },
 "nbformat": 4,
 "nbformat_minor": 4
}
