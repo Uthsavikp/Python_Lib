{
 "cells": [
  {
   "cell_type": "code",
   "execution_count": 2,
   "metadata": {},
   "outputs": [
    {
     "name": "stdout",
     "output_type": "stream",
     "text": [
      "Size of an array: 3\n",
      "Length of one array elements in bytes: 8\n",
      "Total bytes consumed by the elements of the array: 24\n"
     ]
    }
   ],
   "source": [
    "''' \n",
    "  @Author: Uthsavi KP\n",
    "  @Date: 2021-01-12 17:29:38\n",
    "  @Last Modified by: Uthsavi KP\n",
    "  @Last Modified time: 2021-01-12 17:29:38\n",
    "  @Title: To find size,bytes taken by each element and total bytes consumed by the elements. \n",
    "'''\n",
    "import numpy as np\n",
    "class ArrayMemory:\n",
    "    def array_memeory_usage(self):\n",
    "        array_elements = np.array([1,2,3],dtype=np.int64)\n",
    "        print(\"Size of an array:\",array_elements.size)\n",
    "        print(\"Length of one array elements in bytes:\",array_elements.itemsize)\n",
    "        #3 elements x each element taking 8 bytes\n",
    "        print(\"Total bytes consumed by the elements of the array:\",array_elements.nbytes) \n",
    "if __name__ == \"__main__\":\n",
    "    array_memory = ArrayMemory()\n",
    "    array_memory.array_memeory_usage()"
   ]
  }
 ],
 "metadata": {
  "kernelspec": {
   "display_name": "Python 3",
   "language": "python",
   "name": "python3"
  },
  "language_info": {
   "codemirror_mode": {
    "name": "ipython",
    "version": 3
   },
   "file_extension": ".py",
   "mimetype": "text/x-python",
   "name": "python",
   "nbconvert_exporter": "python",
   "pygments_lexer": "ipython3",
   "version": "3.8.3"
  }
 },
 "nbformat": 4,
 "nbformat_minor": 4
}
