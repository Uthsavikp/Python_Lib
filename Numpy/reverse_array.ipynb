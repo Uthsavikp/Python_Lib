{
 "cells": [
  {
   "cell_type": "code",
   "execution_count": 3,
   "metadata": {},
   "outputs": [
    {
     "name": "stdout",
     "output_type": "stream",
     "text": [
      "Original array : [12 13 14 15 16 17 18 19 20 21 22 23 24 25 26 27 28 29 30 31 32 33 34 35\n",
      " 36 37]\n",
      "Reversed array : [37 36 35 34 33 32 31 30 29 28 27 26 25 24 23 22 21 20 19 18 17 16 15 14\n",
      " 13 12]\n"
     ]
    }
   ],
   "source": [
    "''' \n",
    "  @Author: Uthsavi KP\n",
    "  @Date: 2021-01-12 23:27:24\n",
    "  @Last Modified by: Uthsavi KP\n",
    "  @Last Modified time: 2021-01-12 23:57:31\n",
    "  @Title: To reverse an array. \n",
    "'''\n",
    "import numpy as np\n",
    "class ReverseArray:\n",
    "    def reversing_array(self):\n",
    "        \"\"\"\n",
    "        revering an array using slicing\n",
    "        \"\"\"\n",
    "        original_array = np.arange(12,38)\n",
    "        print(\"Original array :\",original_array)\n",
    "        reversed_array = original_array[::-1]\n",
    "        print(\"Reversed array :\",reversed_array)\n",
    "if __name__ == \"__main__\":\n",
    "    rev_array = ReverseArray()\n",
    "    rev_array.reversing_array()       "
   ]
  }
 ],
 "metadata": {
  "kernelspec": {
   "display_name": "Python 3",
   "language": "python",
   "name": "python3"
  },
  "language_info": {
   "codemirror_mode": {
    "name": "ipython",
    "version": 3
   },
   "file_extension": ".py",
   "mimetype": "text/x-python",
   "name": "python",
   "nbconvert_exporter": "python",
   "pygments_lexer": "ipython3",
   "version": "3.8.3"
  }
 },
 "nbformat": 4,
 "nbformat_minor": 4
}
