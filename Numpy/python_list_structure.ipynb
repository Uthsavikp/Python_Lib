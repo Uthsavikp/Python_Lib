{
 "cells": [
  {
   "cell_type": "code",
   "execution_count": 1,
   "metadata": {},
   "outputs": [
    {
     "name": "stdout",
     "output_type": "stream",
     "text": [
      "Original array elements:\n",
      " [[0 1]\n",
      " [2 3]\n",
      " [4 5]]\n",
      "\n",
      "New python list structure:\n",
      " [[0, 1], [2, 3], [4, 5]]\n"
     ]
    }
   ],
   "source": [
    "''' \n",
    "  @Author: Uthsavi KP\n",
    "  @Date: 2021-01-13 1:02:48\n",
    "  @Last Modified by: Uthsavi KP\n",
    "  @Last Modified time: 2021-01-13 1:02:48\n",
    "  @Title: To convert a NumPy array into Python list structure.\n",
    "'''\n",
    "import numpy as np\n",
    "class Convert:\n",
    "    def convert_to_list_structure(self):\n",
    "        \"\"\"\n",
    "        converting numpy array into python list structure\n",
    "        \"\"\"\n",
    "        array1 = np.arange(0,6).reshape(3,2)\n",
    "        list1 = array1.tolist()\n",
    "        print(\"Original array elements:\\n\",array1)\n",
    "        print(\"\\nNew python list structure:\\n\",list1)\n",
    "if __name__ == \"__main__\":\n",
    "    convert = Convert()\n",
    "    convert.convert_to_list_structure()        "
   ]
  }
 ],
 "metadata": {
  "kernelspec": {
   "display_name": "Python 3",
   "language": "python",
   "name": "python3"
  },
  "language_info": {
   "codemirror_mode": {
    "name": "ipython",
    "version": 3
   },
   "file_extension": ".py",
   "mimetype": "text/x-python",
   "name": "python",
   "nbconvert_exporter": "python",
   "pygments_lexer": "ipython3",
   "version": "3.8.3"
  }
 },
 "nbformat": 4,
 "nbformat_minor": 4
}
