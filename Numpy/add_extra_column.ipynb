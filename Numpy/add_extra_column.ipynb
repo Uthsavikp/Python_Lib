{
 "cells": [
  {
   "cell_type": "code",
   "execution_count": 2,
   "metadata": {},
   "outputs": [
    {
     "name": "stdout",
     "output_type": "stream",
     "text": [
      "Array one:\n",
      " [[10 20 30]\n",
      " [40 50 60]] \n",
      "\n",
      "Array two:\n",
      " [[100]\n",
      " [200]]\n",
      "\n",
      "Array after adding an extra column\n",
      " [[ 10  20  30 100]\n",
      " [ 40  50  60 200]]\n"
     ]
    }
   ],
   "source": [
    "''' \n",
    "  @Author: Uthsavi KP\n",
    "  @Date: 2021-01-13 2:08:15\n",
    "  @Last Modified by: Uthsavi KP\n",
    "  @Last Modified time: 2021-01-13 2:08:15\n",
    "  @Title: To add an extra column to an numpy array.\n",
    "'''\n",
    "import numpy as np\n",
    "class AddColumn:\n",
    "    def add_extra_column_to_array(self):\n",
    "        \"\"\"\n",
    "        adding an extra column to an numpy array using hstack\n",
    "        \"\"\"\n",
    "        array1 = np.arange(10,61,10).reshape(2,3)  #array1 and array2 should have same no. of rows\n",
    "        array2 = np.arange(100,201,100).reshape(2,1)\n",
    "        new_array = np.hstack([array1,array2])\n",
    "        print(\"Array one:\\n\",array1,\"\\n\\nArray two:\\n\",array2)\n",
    "        print(\"\\nArray after adding an extra column\\n\",new_array)\n",
    "if __name__==\"__main__\":\n",
    "    add_column = AddColumn()\n",
    "    add_column.add_extra_column_to_array()"
   ]
  }
 ],
 "metadata": {
  "kernelspec": {
   "display_name": "Python 3",
   "language": "python",
   "name": "python3"
  },
  "language_info": {
   "codemirror_mode": {
    "name": "ipython",
    "version": 3
   },
   "file_extension": ".py",
   "mimetype": "text/x-python",
   "name": "python",
   "nbconvert_exporter": "python",
   "pygments_lexer": "ipython3",
   "version": "3.8.3"
  }
 },
 "nbformat": 4,
 "nbformat_minor": 4
}
