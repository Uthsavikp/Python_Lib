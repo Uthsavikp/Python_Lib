{
 "cells": [
  {
   "cell_type": "code",
   "execution_count": null,
   "metadata": {},
   "outputs": [],
   "source": [
    "''' \n",
    "  @Author: Uthsavi KP\n",
    "  @Date: 2021-01-12 21:43:26\n",
    "  @Last Modified by: Uthsavi KP\n",
    "  @Last Modified time: 2021-01-12 21:43:26\n",
    "  @Title: To save a NumPy array to a text file.\n",
    "'''\n",
    "import numpy as np\n",
    "class ChangeDataType:\n",
    "    def changing_the_data_type(self):\n",
    "        \"\"\"\n",
    "        changing the data type of an \n",
    "        array using astype() method\n",
    "        \"\"\"\n",
    "        original_array = np.arange(9).reshape(3,3)\n",
    "        print(\"Original array\\n\",original_array,\"\\nData type of original array :\",original_array.dtype)\n",
    "        #changed_array = (original_array,\"float64\")\n",
    "        changed_array = original_array.astype('float64')\n",
    "        \n",
    "        print(\"\\nChanged data type array\\n\",original_array,\"\\nNew data type :\",changed_array.dtype)\n",
    "if __name__==\"__main__\":\n",
    "    change_dtype = ChangeDataType()\n",
    "    change_dtype.changing_the_data_type()\n",
    "    "
   ]
  }
 ],
 "metadata": {
  "kernelspec": {
   "display_name": "Python 3",
   "language": "python",
   "name": "python3"
  },
  "language_info": {
   "codemirror_mode": {
    "name": "ipython",
    "version": 3
   },
   "file_extension": ".py",
   "mimetype": "text/x-python",
   "name": "python",
   "nbconvert_exporter": "python",
   "pygments_lexer": "ipython3",
   "version": "3.8.3"
  }
 },
 "nbformat": 4,
 "nbformat_minor": 4
}
