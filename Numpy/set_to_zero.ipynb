{
 "cells": [
  {
   "cell_type": "code",
   "execution_count": 1,
   "metadata": {},
   "outputs": [
    {
     "name": "stdout",
     "output_type": "stream",
     "text": [
      "Original array\n",
      " [[1 1 1]\n",
      " [1 1 1]\n",
      " [1 1 1]\n",
      " [1 1 1]]\n",
      "\n",
      "Array after setting values above diagonal to zero\n",
      " [[0 0 0]\n",
      " [1 0 0]\n",
      " [1 1 0]\n",
      " [1 1 1]]\n"
     ]
    }
   ],
   "source": [
    "''' \n",
    "  @Author: Uthsavi KP\n",
    "  @Date: 2021-01-12 22:58:12\n",
    "  @Last Modified by: Uthsavi KP\n",
    "  @Last Modified time: 2021-01-12 22:58:12\n",
    "  @Title: To create an array and set all the values above diagonal to zero. \n",
    "'''\n",
    "import numpy as np\n",
    "class CreateArray:\n",
    "    def set_array_to_zero(self):\n",
    "        \"\"\"\n",
    "        creating an array and set all the values above diagonal to zero\n",
    "        \"\"\"\n",
    "        array1 = np.random.randint(1,2,12).reshape(4,3)\n",
    "        print(\"Original array\\n\",array1)\n",
    "        count = 0\n",
    "        for row in array1:\n",
    "            row[count:]=0\n",
    "            count+=1\n",
    "        print(\"\\nArray after setting values above diagonal to zero\\n\",array1)    \n",
    "if __name__ == \"__main__\":\n",
    "    create_array = CreateArray()\n",
    "    create_array.set_array_to_zero()"
   ]
  }
 ],
 "metadata": {
  "kernelspec": {
   "display_name": "Python 3",
   "language": "python",
   "name": "python3"
  },
  "language_info": {
   "codemirror_mode": {
    "name": "ipython",
    "version": 3
   },
   "file_extension": ".py",
   "mimetype": "text/x-python",
   "name": "python",
   "nbconvert_exporter": "python",
   "pygments_lexer": "ipython3",
   "version": "3.8.3"
  }
 },
 "nbformat": 4,
 "nbformat_minor": 4
}
