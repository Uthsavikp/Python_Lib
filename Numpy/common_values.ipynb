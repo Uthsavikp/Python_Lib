{
 "cells": [
  {
   "cell_type": "code",
   "execution_count": 1,
   "metadata": {},
   "outputs": [
    {
     "name": "stdout",
     "output_type": "stream",
     "text": [
      "Common values between two arrays are : [10 40]\n"
     ]
    }
   ],
   "source": [
    "''' \n",
    "  @Author: Uthsavi KP\n",
    "  @Date: 2021-01-12 17:55:14\n",
    "  @Last Modified by: Uthsavi KP\n",
    "  @Last Modified time: 2021-01-12 17:55:14\n",
    "  @Title: To find common values between two arrays.\n",
    "'''\n",
    "import numpy as np\n",
    "class CommonValues:\n",
    "    def common_values_in_two_arrays(self):\n",
    "        \"\"\"\n",
    "        finding the common values betweentwo arrays using intersect1d() function,\n",
    "        it returns sorted,unique values that are in both the arrays.\n",
    "        \"\"\"\n",
    "        array1 = [0,10,20,40,60] \n",
    "        array2 = [10,30,40]\n",
    "        array_intersection = np.intersect1d(array1,array2)\n",
    "        print(\"Common values between two arrays are :\",array_intersection)\n",
    "if __name__ == \"__main__\":\n",
    "    comm_values = CommonValues()\n",
    "    comm_values.common_values_in_two_arrays()"
   ]
  }
 ],
 "metadata": {
  "kernelspec": {
   "display_name": "Python 3",
   "language": "python",
   "name": "python3"
  },
  "language_info": {
   "codemirror_mode": {
    "name": "ipython",
    "version": 3
   },
   "file_extension": ".py",
   "mimetype": "text/x-python",
   "name": "python",
   "nbconvert_exporter": "python",
   "pygments_lexer": "ipython3",
   "version": "3.8.3"
  }
 },
 "nbformat": 4,
 "nbformat_minor": 4
}
