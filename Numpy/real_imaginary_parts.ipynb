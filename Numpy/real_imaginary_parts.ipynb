{
 "cells": [
  {
   "cell_type": "code",
   "execution_count": 1,
   "metadata": {},
   "outputs": [
    {
     "name": "stdout",
     "output_type": "stream",
     "text": [
      "Complex number is  (1+0j)\n",
      "The real part is 1.0\n",
      "The imaginary part 0.0\n",
      "Complex number is  (0.70710678+0.70710678j)\n",
      "The real part is 0.70710678\n",
      "The imaginary part 0.70710678\n"
     ]
    }
   ],
   "source": [
    "''' \n",
    "  @Author: Uthsavi KP\n",
    "  @Date: 2021-01-12 16:52:09\n",
    "  @Last Modified by: Uthsavi KP\n",
    "  @Last Modified time: 2021-01-12 16:52:09\n",
    "  @Title: To find the real and imaginary parts of an array of complex numbers. \n",
    "'''\n",
    "class RealImaginary:\n",
    "    def real_imaginary_parts(self):\n",
    "        \"\"\"\n",
    "        finding the real and imaginary parts of an array \n",
    "        of complex numbers using real() and imag() functions\n",
    "        \"\"\"\n",
    "        original_array = ([ 1.00000000+0.j ,0.70710678+0.70710678j])\n",
    "        for i in range(len(original_array)):\n",
    "            print(\"Complex number is \",original_array[i])\n",
    "            print(\"The real part is\",original_array[i].real)\n",
    "            print(\"The imaginary part\",original_array[i].imag)\n",
    "if __name__ == \"__main__\":\n",
    "    real_imag = RealImaginary()\n",
    "    real_imag.real_imaginary_parts()"
   ]
  }
 ],
 "metadata": {
  "kernelspec": {
   "display_name": "Python 3",
   "language": "python",
   "name": "python3"
  },
  "language_info": {
   "codemirror_mode": {
    "name": "ipython",
    "version": 3
   },
   "file_extension": ".py",
   "mimetype": "text/x-python",
   "name": "python",
   "nbconvert_exporter": "python",
   "pygments_lexer": "ipython3",
   "version": "3.8.3"
  }
 },
 "nbformat": 4,
 "nbformat_minor": 4
}
