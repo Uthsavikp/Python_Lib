{
 "cells": [
  {
   "cell_type": "code",
   "execution_count": 1,
   "metadata": {},
   "outputs": [
    {
     "name": "stdout",
     "output_type": "stream",
     "text": [
      "Set difference between two arrays : [ 0 20 60 80]\n"
     ]
    }
   ],
   "source": [
    "''' \n",
    "  @Author: Uthsavi KP\n",
    "  @Date: 2021-01-12 18:19:21\n",
    "  @Last Modified by: Uthsavi KP\n",
    "  @Last Modified time: 2021-01-12 18:19:21\n",
    "  @Title: To find common values between two arrays.\n",
    "'''\n",
    "import numpy as np\n",
    "class SetDifference:\n",
    "    def set_difference_of_two_arrays(self):\n",
    "        \"\"\"\n",
    "        The set difference will return the sorted, unique values in \n",
    "        array1 that are not in array2 using setdiff1d() function\n",
    "        \"\"\"\n",
    "        array1 = np.array([0,10,20,40,60,80])\n",
    "        array2 = np.array([10,30,40,50,70,90])\n",
    "        array_difference = np.setdiff1d(array1,array2)\n",
    "        print(\"Set difference between two arrays :\",array_difference)\n",
    "if __name__ == \"__main__\":\n",
    "    set_diff = SetDifference()\n",
    "    set_diff.set_difference_of_two_arrays()"
   ]
  }
 ],
 "metadata": {
  "kernelspec": {
   "display_name": "Python 3",
   "language": "python",
   "name": "python3"
  },
  "language_info": {
   "codemirror_mode": {
    "name": "ipython",
    "version": 3
   },
   "file_extension": ".py",
   "mimetype": "text/x-python",
   "name": "python",
   "nbconvert_exporter": "python",
   "pygments_lexer": "ipython3",
   "version": "3.8.3"
  }
 },
 "nbformat": 4,
 "nbformat_minor": 4
}
