{
 "cells": [
  {
   "cell_type": "code",
   "execution_count": 1,
   "metadata": {},
   "outputs": [
    {
     "name": "stdout",
     "output_type": "stream",
     "text": [
      "Pandas series\n",
      " 0    1\n",
      "1    2\n",
      "2    3\n",
      "3    4\n",
      "4    5\n",
      "dtype: int64\n",
      "\n",
      "Converted series to python list\n",
      " [1, 2, 3, 4, 5] \n",
      "Type\n",
      " <class 'list'>\n"
     ]
    }
   ],
   "source": [
    "''' \n",
    "  @Author: Uthsavi KP\n",
    "  @Date: 2021-01-13 03:59:56\n",
    "  @Last Modified by: Uthsavi KP\n",
    "  @Last Modified time: 2021-01-13 03:59:56\n",
    "  @Title: To convert a Panda module Series to Python list and it's type.\n",
    "\n",
    "'''\n",
    "import pandas as pd\n",
    "class Convert:\n",
    "    def series_to_list(self):\n",
    "        \"\"\"\n",
    "        converting Series to Python list and it's type\n",
    "        \"\"\"\n",
    "        data = [1,2,3,4,5]\n",
    "        series1 = pd.Series(data)\n",
    "        print(\"Pandas series\\n\",series1)\n",
    "        list1 = series1.tolist()\n",
    "        print(\"\\nConverted series to python list\\n\",list1,\"\\nType\\n\",type(list1)) \n",
    "        \n",
    "if __name__==\"__main__\":\n",
    "    convert = Convert()\n",
    "    convert.series_to_list()"
   ]
  }
 ],
 "metadata": {
  "kernelspec": {
   "display_name": "Python 3",
   "language": "python",
   "name": "python3"
  },
  "language_info": {
   "codemirror_mode": {
    "name": "ipython",
    "version": 3
   },
   "file_extension": ".py",
   "mimetype": "text/x-python",
   "name": "python",
   "nbconvert_exporter": "python",
   "pygments_lexer": "ipython3",
   "version": "3.8.3"
  }
 },
 "nbformat": 4,
 "nbformat_minor": 4
}
