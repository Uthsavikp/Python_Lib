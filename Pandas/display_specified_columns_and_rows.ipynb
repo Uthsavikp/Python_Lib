{
 "cells": [
  {
   "cell_type": "code",
   "execution_count": 17,
   "metadata": {},
   "outputs": [
    {
     "name": "stdout",
     "output_type": "stream",
     "text": [
      "Displaying columns name and score, rows 1,3,5,6:\n",
      "\n",
      "       name  score\n",
      "b     Dima    9.0\n",
      "d    James    NaN\n",
      "f  Michael   20.0\n",
      "g  Matthew   14.5\n"
     ]
    }
   ],
   "source": [
    "''' \n",
    "  @Author: Uthsavi KP\n",
    "  @Date: 2021-01-13 23:13:04\n",
    "  @Last Modified by: Uthsavi KP\n",
    "  @Last Modified time: 2021-01-13 23:13:04\n",
    "  @Title: To select the specified columns 'name' and 'score'and rows 1, 3, 5, 6 from a given data frame. \n",
    "'''\n",
    "import numpy as np\n",
    "import pandas as pd\n",
    "class SelectColumnsRows:\n",
    "    def select_specific_columns_and_rows(self):\n",
    "        \"\"\"\n",
    "        displaying selected columns\n",
    "        \"\"\"\n",
    "        exam_data = {'name': ['Anastasia', 'Dima', 'Katherine', 'James', 'Emily', 'Michael', 'Matthew', 'Laura', 'Kevin', 'Jonas'],\n",
    "                    'score': [12.5, 9, 16.5, np.nan, 9, 20, 14.5, np.nan, 8, 19],\n",
    "                    'attempts': [1, 3, 2, 3, 2, 3, 1, 1, 2, 1],\n",
    "                    'qualify': ['yes', 'no', 'yes', 'no', 'no', 'yes', 'yes', 'no', 'no', 'yes']}\n",
    "        \n",
    "        labels = ['a', 'b', 'c', 'd', 'e', 'f', 'g', 'h', 'i', 'j'] \n",
    "        df = pd.DataFrame(exam_data,index=labels)\n",
    "        print(\"Displaying columns name and score, rows 1,3,5,6:\\n\\n\",df.loc[[\"b\",\"d\",\"f\",\"g\"],[\"name\",\"score\"]])\n",
    "if __name__==\"__main__\":\n",
    "    select_col_row = SelectColumnsRows()\n",
    "    select_col_row.select_specific_columns_and_rows()"
   ]
  }
 ],
 "metadata": {
  "kernelspec": {
   "display_name": "Python 3",
   "language": "python",
   "name": "python3"
  },
  "language_info": {
   "codemirror_mode": {
    "name": "ipython",
    "version": 3
   },
   "file_extension": ".py",
   "mimetype": "text/x-python",
   "name": "python",
   "nbconvert_exporter": "python",
   "pygments_lexer": "ipython3",
   "version": "3.8.3"
  }
 },
 "nbformat": 4,
 "nbformat_minor": 4
}
