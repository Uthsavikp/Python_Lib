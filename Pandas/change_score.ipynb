{
 "cells": [
  {
   "cell_type": "code",
   "execution_count": 34,
   "metadata": {},
   "outputs": [
    {
     "name": "stdout",
     "output_type": "stream",
     "text": [
      "DataFrame after changing score of row 'd' to 11.5\n",
      "\n",
      "         name  score  attempts qualify\n",
      "a  Anastasia   12.5         1     yes\n",
      "b       Dima    9.0         3      no\n",
      "c  Katherine   16.5         2     yes\n",
      "d      James   11.5         3      no\n",
      "e      Emily    9.0         2      no\n",
      "f    Michael   20.0         3     yes\n",
      "g    Matthew   14.5         1     yes\n",
      "h      Laura    NaN         1      no\n",
      "i      Kevin    8.0         2      no\n",
      "j      Jonas   19.0         1     yes\n"
     ]
    }
   ],
   "source": [
    "''' \n",
    "  @Author: Uthsavi KP\n",
    "  @Date: 2021-01-14 01:37:08\n",
    "  @Last Modified by: Uthsavi KP\n",
    "  @Last Modified time: 2021-01-14 01:37:08\n",
    "  @Title: To change the score in row 'd' to 11.5. \n",
    "'''\n",
    "import numpy as np\n",
    "import pandas as pd\n",
    "class ChangeScore:\n",
    "    def change_score_of_row(self):\n",
    "        \"\"\"\n",
    "        displaying dataframe after changing \n",
    "        the score of row 'd' to 11.5\n",
    "        \"\"\"\n",
    "        exam_data = {'name': ['Anastasia', 'Dima', 'Katherine', 'James', 'Emily', 'Michael', 'Matthew', 'Laura', 'Kevin', 'Jonas'],\n",
    "                    'score': [12.5, 9, 16.5, np.nan, 9, 20, 14.5, np.nan, 8, 19],\n",
    "                    'attempts': [1, 3, 2, 3, 2, 3, 1, 1, 2, 1],\n",
    "                    'qualify': ['yes', 'no', 'yes', 'no', 'no', 'yes', 'yes', 'no', 'no', 'yes']}\n",
    "        \n",
    "        labels = ['a', 'b', 'c', 'd', 'e', 'f', 'g', 'h', 'i', 'j'] \n",
    "        df = pd.DataFrame(exam_data,index=labels)\n",
    "        df.loc[\"d\",\"score\"]=11.5\n",
    "        print(\"DataFrame after changing score of row 'd' to 11.5\\n\\n\",df)\n",
    "if __name__==\"__main__\":\n",
    "    change_scr = ChangeScore()\n",
    "    change_scr.change_score_of_row()\n",
    "    "
   ]
  }
 ],
 "metadata": {
  "kernelspec": {
   "display_name": "Python 3",
   "language": "python",
   "name": "python3"
  },
  "language_info": {
   "codemirror_mode": {
    "name": "ipython",
    "version": 3
   },
   "file_extension": ".py",
   "mimetype": "text/x-python",
   "name": "python",
   "nbconvert_exporter": "python",
   "pygments_lexer": "ipython3",
   "version": "3.8.3"
  }
 },
 "nbformat": 4,
 "nbformat_minor": 4
}
