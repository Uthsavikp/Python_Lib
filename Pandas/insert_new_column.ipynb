{
 "cells": [
  {
   "cell_type": "code",
   "execution_count": 7,
   "metadata": {},
   "outputs": [
    {
     "name": "stdout",
     "output_type": "stream",
     "text": [
      "DataFrame after inserting a new column:\n",
      "\n",
      "         name  score  attempts qualify Attendance\n",
      "a  Anastasia   12.5         1     yes         91\n",
      "b       Dima    9.0         3      no         47\n",
      "c  Katherine   16.5         2     yes         88\n",
      "d      James    NaN         3      no         30\n",
      "e      Emily    9.0         2      no         67\n",
      "f    Michael   20.0         3     yes         56\n",
      "g    Matthew   14.5         1     yes         68\n",
      "h      Laura    NaN         1      no         79\n",
      "i      Kevin    8.0         2      no         54\n",
      "j      Jonas   19.0         1     yes         95\n"
     ]
    }
   ],
   "source": [
    "''' \n",
    "  @Author: Uthsavi KP\n",
    "  @Date: 2021-01-14 04:53:03\n",
    "  @Last Modified by: Uthsavi KP\n",
    "  @Last Modified time: 2021-01-14 04:53:03\n",
    "  @Title: To insert a new column in existing DataFrame.   \n",
    "'''\n",
    "import numpy as np\n",
    "import pandas as pd\n",
    "class InsertColumn:\n",
    "    def inserting_new_column(self):\n",
    "        \"\"\"\n",
    "        inserting new column to the dataframe\n",
    "        \"\"\"\n",
    "        exam_data = {'name': ['Anastasia', 'Dima', 'Katherine', 'James', 'Emily', 'Michael', 'Matthew', 'Laura', 'Kevin', 'Jonas'],\n",
    "                    'score': [12.5, 9, 16.5, np.nan, 9, 20, 14.5, np.nan, 8, 19],\n",
    "                    'attempts': [1, 3, 2, 3, 2, 3, 1, 1, 2, 1],\n",
    "                    'qualify': ['yes', 'no', 'yes', 'no', 'no', 'yes', 'yes', 'no', 'no', 'yes']}\n",
    "        \n",
    "        labels = ['a', 'b', 'c', 'd', 'e', 'f', 'g', 'h', 'i', 'j'] \n",
    "        df = pd.DataFrame(exam_data,index=labels)\n",
    "        data = [\"91\",\"47\",\"88\",\"30\",\"67\",\"56\",\"68\",\"79\",\"54\",\"95\"]\n",
    "        df[\"Attendance\"]=data\n",
    "        print(\"DataFrame after inserting a new column:\\n\\n\",df)\n",
    "if __name__==\"__main__\":\n",
    "    insert_col = InsertColumn()\n",
    "    insert_col.inserting_new_column()\n",
    "    "
   ]
  }
 ],
 "metadata": {
  "kernelspec": {
   "display_name": "Python 3",
   "language": "python",
   "name": "python3"
  },
  "language_info": {
   "codemirror_mode": {
    "name": "ipython",
    "version": 3
   },
   "file_extension": ".py",
   "mimetype": "text/x-python",
   "name": "python",
   "nbconvert_exporter": "python",
   "pygments_lexer": "ipython3",
   "version": "3.8.3"
  }
 },
 "nbformat": 4,
 "nbformat_minor": 4
}
