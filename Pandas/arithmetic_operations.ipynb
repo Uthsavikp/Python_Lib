{
 "cells": [
  {
   "cell_type": "code",
   "execution_count": 5,
   "metadata": {},
   "outputs": [
    {
     "name": "stdout",
     "output_type": "stream",
     "text": [
      "\n",
      "Addition\n",
      " 0     3\n",
      "1     7\n",
      "2    11\n",
      "3    15\n",
      "4    19\n",
      "dtype: int64 \n",
      "\n",
      "Subtraction\n",
      " 0    1\n",
      "1    1\n",
      "2    1\n",
      "3    1\n",
      "4    1\n",
      "dtype: int64 \n",
      "\n",
      "Multiplication\n",
      " 0     2\n",
      "1    12\n",
      "2    30\n",
      "3    56\n",
      "4    90\n",
      "dtype: int64 \n",
      "\n",
      "Division\n",
      " 0    2.000000\n",
      "1    1.333333\n",
      "2    1.200000\n",
      "3    1.142857\n",
      "4    1.111111\n",
      "dtype: float64\n"
     ]
    }
   ],
   "source": [
    "''' \n",
    "  @Author: Uthsavi KP\n",
    "  @Date: 2021-01-13 04:05:33\n",
    "  @Last Modified by: Uthsavi KP\n",
    "  @Last Modified time: 2021-01-13 04:05:33\n",
    "  @Title: To add, subtract, multiple and divide two Pandas Series.\n",
    "\n",
    "'''\n",
    "import pandas as pd\n",
    "class ArithmeticOpetrations:\n",
    "    def arithmetic_operations_on_series(self):\n",
    "        \"\"\"\n",
    "        adding,subtracting,multiplying and \n",
    "        dividing two pandas series\n",
    "        \"\"\"\n",
    "        series1 = pd.Series([2,4,6,8,10])\n",
    "        series2 = pd.Series([1,3,5,7,9])\n",
    "        print(\"\\nAddition\\n\",series1+series2,\"\\n\\nSubtraction\\n\",series1-series2,\"\\n\\nMultiplication\\n\",series1*series2,\n",
    "              \"\\n\\nDivision\\n\",series1/series2)\n",
    "if __name__==\"__main__\":\n",
    "    arithmetic_opr = ArithmeticOpetrations()\n",
    "    arithmetic_opr.arithmetic_operations_on_series()"
   ]
  }
 ],
 "metadata": {
  "kernelspec": {
   "display_name": "Python 3",
   "language": "python",
   "name": "python3"
  },
  "language_info": {
   "codemirror_mode": {
    "name": "ipython",
    "version": 3
   },
   "file_extension": ".py",
   "mimetype": "text/x-python",
   "name": "python",
   "nbconvert_exporter": "python",
   "pygments_lexer": "ipython3",
   "version": "3.8.3"
  }
 },
 "nbformat": 4,
 "nbformat_minor": 4
}
