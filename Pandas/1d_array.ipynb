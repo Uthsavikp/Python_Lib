{
 "cells": [
  {
   "cell_type": "code",
   "execution_count": 1,
   "metadata": {},
   "outputs": [
    {
     "name": "stdout",
     "output_type": "stream",
     "text": [
      "One-dimensional array \n",
      " 0    1\n",
      "1    2\n",
      "2    3\n",
      "3    4\n",
      "4    5\n",
      "dtype: int64\n"
     ]
    }
   ],
   "source": [
    "''' \n",
    "  @Author: Uthsavi KP\n",
    "  @Date: 2021-01-13 03:39:12\n",
    "  @Last Modified by: Uthsavi KP\n",
    "  @Last Modified time: 2021-01-13 03:39:12\n",
    "  @Title: To create and display a one-dimensional array-like object containing an array of data using Pandas module.\n",
    "\n",
    "'''\n",
    "import pandas as pd\n",
    "class OneDimensionArray:\n",
    "    def display_array(self):\n",
    "        \"\"\"\n",
    "        displaying one dimensional array using pandas series\n",
    "        \"\"\"\n",
    "        data = [1,2,3,4,5]\n",
    "        array1 = pd.Series(data)\n",
    "        print(\"One-dimensional array \\n\",array1)        \n",
    "if __name__==\"__main__\":\n",
    "    one_d_array = OneDimensionArray()\n",
    "    one_d_array.display_array()"
   ]
  }
 ],
 "metadata": {
  "kernelspec": {
   "display_name": "Python 3",
   "language": "python",
   "name": "python3"
  },
  "language_info": {
   "codemirror_mode": {
    "name": "ipython",
    "version": 3
   },
   "file_extension": ".py",
   "mimetype": "text/x-python",
   "name": "python",
   "nbconvert_exporter": "python",
   "pygments_lexer": "ipython3",
   "version": "3.8.3"
  }
 },
 "nbformat": 4,
 "nbformat_minor": 4
}
