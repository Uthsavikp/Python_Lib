{
 "cells": [
  {
   "cell_type": "code",
   "execution_count": 9,
   "metadata": {},
   "outputs": [
    {
     "name": "stdout",
     "output_type": "stream",
     "text": [
      "Anastasia 12.5\n",
      "Dima 9.0\n",
      "Katherine 16.5\n",
      "James nan\n",
      "Emily 9.0\n",
      "Michael 20.0\n",
      "Matthew 14.5\n",
      "Laura nan\n",
      "Kevin 8.0\n",
      "Jonas 19.0\n"
     ]
    }
   ],
   "source": [
    "''' \n",
    "  @Author: Uthsavi KP\n",
    "  @Date: 2021-01-14 04:53:03\n",
    "  @Last Modified by: Uthsavi KP\n",
    "  @Last Modified time: 2021-01-14 04:53:03\n",
    "  @Title: To iterate over rows in a DataFrame.   \n",
    "'''\n",
    "import numpy as np\n",
    "import pandas as pd\n",
    "class Iterate:\n",
    "    def iterating_over_rows(self):\n",
    "        \"\"\"\n",
    "        inserting new column to the dataframe\n",
    "        \"\"\"\n",
    "        exam_data = {'name': ['Anastasia', 'Dima', 'Katherine', 'James', 'Emily', 'Michael', 'Matthew', 'Laura', 'Kevin', 'Jonas'],\n",
    "                    'score': [12.5, 9, 16.5, np.nan, 9, 20, 14.5, np.nan, 8, 19],\n",
    "                    'attempts': [1, 3, 2, 3, 2, 3, 1, 1, 2, 1],\n",
    "                    'qualify': ['yes', 'no', 'yes', 'no', 'no', 'yes', 'yes', 'no', 'no', 'yes']}\n",
    "        \n",
    "        labels = ['a', 'b', 'c', 'd', 'e', 'f', 'g', 'h', 'i', 'j'] \n",
    "        df = pd.DataFrame(exam_data,index=labels)\n",
    "        for row in df.index:\n",
    "            print(df[\"name\"][row],df[\"score\"][row])\n",
    "if __name__==\"__main__\":\n",
    "    itr = Iterate()\n",
    "    itr.iterating_over_rows()\n",
    "    "
   ]
  }
 ],
 "metadata": {
  "kernelspec": {
   "display_name": "Python 3",
   "language": "python",
   "name": "python3"
  },
  "language_info": {
   "codemirror_mode": {
    "name": "ipython",
    "version": 3
   },
   "file_extension": ".py",
   "mimetype": "text/x-python",
   "name": "python",
   "nbconvert_exporter": "python",
   "pygments_lexer": "ipython3",
   "version": "3.8.3"
  }
 },
 "nbformat": 4,
 "nbformat_minor": 4
}
