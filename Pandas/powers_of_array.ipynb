{
 "cells": [
  {
   "cell_type": "code",
   "execution_count": 1,
   "metadata": {},
   "outputs": [
    {
     "name": "stdout",
     "output_type": "stream",
     "text": [
      "\n",
      " Powers of array values\n",
      " 0      0\n",
      "1      1\n",
      "2      8\n",
      "3     27\n",
      "4     64\n",
      "5    125\n",
      "6    216\n",
      "dtype: int64\n"
     ]
    }
   ],
   "source": [
    "''' \n",
    "  @Author: Uthsavi KP\n",
    "  @Date: 2021-01-13 04:27:14\n",
    "  @Last Modified by: Uthsavi KP\n",
    "  @Last Modified time: 2021-01-13 04:27:14\n",
    "  @Title: To get the powers of an array values element-wise,1st array elements raised to powers from 2nd array.\n",
    "\n",
    "'''\n",
    "import numpy as np\n",
    "import pandas as pd\n",
    "class Powers:\n",
    "    def powers_of_array_values(self):\n",
    "        \"\"\"\n",
    "        getting powers of an array,\n",
    "        first array elements raised \n",
    "        to powers from second array\n",
    "        \"\"\"\n",
    "        series1 = pd.Series([0,1,2,3,4,5,6])\n",
    "        series2 = pd.Series([3,3,3,3,3,3,3])\n",
    "        print(\"\\n Powers of array values\\n\",np.power(series1,series2))\n",
    "if __name__==\"__main__\":\n",
    "    powers = Powers()\n",
    "    powers.powers_of_array_values()"
   ]
  }
 ],
 "metadata": {
  "kernelspec": {
   "display_name": "Python 3",
   "language": "python",
   "name": "python3"
  },
  "language_info": {
   "codemirror_mode": {
    "name": "ipython",
    "version": 3
   },
   "file_extension": ".py",
   "mimetype": "text/x-python",
   "name": "python",
   "nbconvert_exporter": "python",
   "pygments_lexer": "ipython3",
   "version": "3.8.3"
  }
 },
 "nbformat": 4,
 "nbformat_minor": 4
}
