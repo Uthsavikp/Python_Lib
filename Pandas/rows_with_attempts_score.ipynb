{
 "cells": [
  {
   "cell_type": "code",
   "execution_count": 23,
   "metadata": {},
   "outputs": [
    {
     "name": "stdout",
     "output_type": "stream",
     "text": [
      "Rows with attempts less than 2 and score greater than 15:\n",
      "\n",
      "     name  score  attempts qualify\n",
      "j  Jonas   19.0         1     yes\n"
     ]
    }
   ],
   "source": [
    "''' \n",
    "  @Author: Uthsavi KP\n",
    "  @Date: 2021-01-14 01:09:34\n",
    "  @Last Modified by: Uthsavi KP\n",
    "  @Last Modified time: 2021-01-14 01:09:34\n",
    "  @Title: To select the rows where no. of attempts in examination is less than 2 and score greater than 15. \n",
    "'''\n",
    "import numpy as np\n",
    "import pandas as pd\n",
    "class AttemptsAndScore:\n",
    "    def rows_with_attempts_and_score(self):\n",
    "        \"\"\"\n",
    "        displaying rows where attempts is less than 2 \n",
    "        and score is greater than 15\n",
    "        \"\"\"\n",
    "        exam_data = {'name': ['Anastasia', 'Dima', 'Katherine', 'James', 'Emily', 'Michael', 'Matthew', 'Laura', 'Kevin', 'Jonas'],\n",
    "                    'score': [12.5, 9, 16.5, np.nan, 9, 20, 14.5, np.nan, 8, 19],\n",
    "                    'attempts': [1, 3, 2, 3, 2, 3, 1, 1, 2, 1],\n",
    "                    'qualify': ['yes', 'no', 'yes', 'no', 'no', 'yes', 'yes', 'no', 'no', 'yes']}\n",
    "        \n",
    "        labels = ['a', 'b', 'c', 'd', 'e', 'f', 'g', 'h', 'i', 'j'] \n",
    "        df = pd.DataFrame(exam_data,index=labels)\n",
    "        print(\"Rows with attempts less than 2 and score greater than 15:\\n\\n\",df[((df[\"attempts\"]<2) & (df[\"score\"]>15))])\n",
    "if __name__==\"__main__\":\n",
    "    attempts_score = AttemptsAndScore()\n",
    "    attempts_score.rows_with_attempts_and_score()\n",
    "    "
   ]
  }
 ],
 "metadata": {
  "kernelspec": {
   "display_name": "Python 3",
   "language": "python",
   "name": "python3"
  },
  "language_info": {
   "codemirror_mode": {
    "name": "ipython",
    "version": 3
   },
   "file_extension": ".py",
   "mimetype": "text/x-python",
   "name": "python",
   "nbconvert_exporter": "python",
   "pygments_lexer": "ipython3",
   "version": "3.8.3"
  }
 },
 "nbformat": 4,
 "nbformat_minor": 4
}
